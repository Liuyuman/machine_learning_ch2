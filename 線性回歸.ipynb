{
 "cells": [
  {
   "cell_type": "code",
   "execution_count": null,
   "metadata": {},
   "outputs": [],
   "source": [
    "from sklearn import datasets, linear_model, svm\n",
    "from sklearn.cross_validation import train_test_split\n",
    "from sklearn import svm\n",
    "import matplotlib.pyplot as plt\n",
    "from sklearn.preprocessing import StandardScaler\n",
    "boston= datasets.load_boston()\n",
    "y = boston.target\n",
    "diabetes = datasets.load_diabetes()\n",
    "X_train, X_test, y_train , y_test = train_test_split(diabetes.data, diabetes.target, test_size=0.2)\n",
    "#regr=linear_model.LinearRegression()\n",
    "#regr.fit(X_train,y_train)\n",
    "#predicted = regr.predict(X_test)\n",
    "svc=svm.SVR(kernel='linear', C=100, gamma=0.001)\n",
    "svc.fit(X_train, y_train)\n",
    "predicted=svc.predict(X_test)\n",
    "plt.scatter(y_test, predicted)\n",
    "y=diabetes.target\n",
    "plt.plot([y.min(), y.max()], [y.min(), y.max()], 'k--', lw=4)\n",
    "plt.xlabel('Measuted')\n",
    "plt.ylabel('Predicted')\n",
    "plt.show()\n",
    "#print(diabetes.DESCR)\n",
    "#print(diabetes.target)\n",
    "#print(diabetes.data)"
   ]
  }
 ],
 "metadata": {
  "kernelspec": {
   "display_name": "Python 3",
   "language": "python",
   "name": "python3"
  },
  "language_info": {
   "codemirror_mode": {
    "name": "ipython",
    "version": 3
   },
   "file_extension": ".py",
   "mimetype": "text/x-python",
   "name": "python",
   "nbconvert_exporter": "python",
   "pygments_lexer": "ipython3",
   "version": "3.6.4"
  }
 },
 "nbformat": 4,
 "nbformat_minor": 2
}
