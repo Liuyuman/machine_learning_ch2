{
 "cells": [
  {
   "cell_type": "code",
   "execution_count": null,
   "metadata": {},
   "outputs": [],
   "source": [
    "import numpy as np\n",
    "import pandas as pd\n",
    "import matplotlib.pyplot as plt\n",
    "\n",
    "df=pd.read_csv('c:/creditcard.csv')\n",
    "print(df.shape)\n",
    "df.head()"
   ]
  },
  {
   "cell_type": "code",
   "execution_count": null,
   "metadata": {},
   "outputs": [],
   "source": [
    "df.info()"
   ]
  },
  {
   "cell_type": "code",
   "execution_count": null,
   "metadata": {},
   "outputs": [],
   "source": [
    "df.describe()"
   ]
  },
  {
   "cell_type": "code",
   "execution_count": null,
   "metadata": {},
   "outputs": [],
   "source": [
    "fig=plt.figure(figsize=(15,12))\n",
    "plt.subplot(5,6,1);plt.plot(df.V1);plt.subplot(5,6,16);plt.plot(df.V16);\n",
    "plt.subplot(5,6,2);plt.plot(df.V2);plt.subplot(5,6,17);plt.plot(df.V17);\n",
    "plt.subplot(5,6,3);plt.plot(df.V3);plt.subplot(5,6,18);plt.plot(df.V18);\n",
    "plt.subplot(5,6,4);plt.plot(df.V4);plt.subplot(5,6,19);plt.plot(df.V19);\n",
    "plt.subplot(5,6,5);plt.plot(df.V5);plt.subplot(5,6,20);plt.plot(df.V20);\n",
    "plt.subplot(5,6,6);plt.plot(df.V6);plt.subplot(5,6,21);plt.plot(df.V21);\n",
    "plt.subplot(5,6,7);plt.plot(df.V7);plt.subplot(5,6,22);plt.plot(df.V22);\n",
    "plt.subplot(5,6,8);plt.plot(df.V8);plt.subplot(5,6,23);plt.plot(df.V23);\n",
    "plt.subplot(5,6,9);plt.plot(df.V9);plt.subplot(5,6,24);plt.plot(df.V24);\n",
    "plt.subplot(5,6,10);plt.plot(df.V10);plt.subplot(5,6,25);plt.plot(df.V25);\n",
    "plt.subplot(5,6,11);plt.plot(df.V11);plt.subplot(5,6,26);plt.plot(df.V26);\n",
    "plt.subplot(5,6,12);plt.plot(df.V12);plt.subplot(5,6,27);plt.plot(df.V27);\n",
    "plt.subplot(5,6,13);plt.plot(df.V13);plt.subplot(5,6,28);plt.plot(df.V28);\n",
    "plt.subplot(5,6,14);plt.plot(df.V14);plt.subplot(5,6,29);plt.plot(df.Amount)\n",
    "plt.subplot(5,6,15);plt.plot(df.V15);\n",
    "plt.show()"
   ]
  },
  {
   "cell_type": "code",
   "execution_count": null,
   "metadata": {},
   "outputs": [],
   "source": [
    "from sklearn.cross_validation import train_test_split\n",
    "feature_names = df.iloc[:, 1:30].columns #切出29筆的欄位名稱\n",
    "target=df.iloc[:1 , 30: ].columns #切出是否詐騙的欄位名稱\n",
    "data_features = df[feature_names] #切出前29個欄位資料\n",
    "data_target=df[target] #切出是否詐騙資料\n",
    "X_train,X_test,y_train,y_test=train_test_split(data_features,data_target,train_size=0.70,test_size=0.30,random_state=1)"
   ]
  }
 ],
 "metadata": {
  "kernelspec": {
   "display_name": "Python 3",
   "language": "python",
   "name": "python3"
  },
  "language_info": {
   "codemirror_mode": {
    "name": "ipython",
    "version": 3
   },
   "file_extension": ".py",
   "mimetype": "text/x-python",
   "name": "python",
   "nbconvert_exporter": "python",
   "pygments_lexer": "ipython3",
   "version": "3.6.4"
  }
 },
 "nbformat": 4,
 "nbformat_minor": 2
}
